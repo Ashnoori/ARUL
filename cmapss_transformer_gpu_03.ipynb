{
 "cells": [
  {
   "cell_type": "code",
   "execution_count": 1,
   "id": "2259801a",
   "metadata": {},
   "outputs": [],
   "source": [
    "import numpy as np\n",
    "import pandas as pd\n",
    "import seaborn as sns\n",
    "import tensorflow as tf\n",
    "import sklearn.metrics\n",
    "from matplotlib import pyplot as plt\n",
    "from sklearn.preprocessing import MinMaxScaler\n",
    "from sklearn.ensemble import RandomForestClassifier\n",
    "from sklearn.inspection import permutation_importance\n",
    "from keras.models import Sequential\n",
    "from keras.layers import LSTM\n",
    "from keras.layers import Dense, Dropout\n",
    "import tensorflow as tf\n",
    "import math\n",
    "from sklearn.metrics import mean_absolute_error\n",
    "from sklearn.metrics import r2_score\n",
    "from sklearn.metrics import mean_squared_error\n",
    "from tensorflow.keras.optimizers import Adam"
   ]
  },
  {
   "cell_type": "code",
   "execution_count": 2,
   "id": "ab710441",
   "metadata": {},
   "outputs": [
    {
     "data": {
      "text/plain": [
       "True"
      ]
     },
     "execution_count": 2,
     "metadata": {},
     "output_type": "execute_result"
    }
   ],
   "source": [
    "tf.test.is_built_with_cuda()"
   ]
  },
  {
   "cell_type": "code",
   "execution_count": 3,
   "id": "c98df584",
   "metadata": {},
   "outputs": [
    {
     "name": "stdout",
     "output_type": "stream",
     "text": [
      "WARNING:tensorflow:From C:\\Users\\noori\\AppData\\Local\\Temp/ipykernel_3644/501681495.py:1: is_gpu_available (from tensorflow.python.framework.test_util) is deprecated and will be removed in a future version.\n",
      "Instructions for updating:\n",
      "Use `tf.config.list_physical_devices('GPU')` instead.\n"
     ]
    },
    {
     "data": {
      "text/plain": [
       "True"
      ]
     },
     "execution_count": 3,
     "metadata": {},
     "output_type": "execute_result"
    }
   ],
   "source": [
    "tf.test.is_gpu_available(\n",
    "    cuda_only=False, min_cuda_compute_capability=None\n",
    ")"
   ]
  },
  {
   "cell_type": "code",
   "execution_count": 4,
   "id": "f39bef32",
   "metadata": {},
   "outputs": [
    {
     "data": {
      "text/plain": [
       "[PhysicalDevice(name='/physical_device:GPU:0', device_type='GPU')]"
      ]
     },
     "execution_count": 4,
     "metadata": {},
     "output_type": "execute_result"
    }
   ],
   "source": [
    "tf.config.list_physical_devices('GPU')"
   ]
  },
  {
   "cell_type": "code",
   "execution_count": 5,
   "id": "7394b4d0",
   "metadata": {},
   "outputs": [
    {
     "name": "stdout",
     "output_type": "stream",
     "text": [
      "Num GPUs Available:  1\n"
     ]
    }
   ],
   "source": [
    "print(\"Num GPUs Available: \", len(tf.config.list_physical_devices('GPU')))"
   ]
  },
  {
   "cell_type": "code",
   "execution_count": 6,
   "id": "2ef12a67",
   "metadata": {},
   "outputs": [],
   "source": [
    "rul_1_gt = pd.read_csv(\"D:/CMAPSSData/RUL_FD001.txt\", header=None)\n",
    "\n",
    "rul_1_gt.rename(columns={0: \"RUL_1gt\"}, inplace=True)   \n",
    "\n",
    "column_name_dict={ 0: \"engine_id\", 1: \"cycle\", 2: \"op_set_1\", 3: \"op_set_2\", 4: \"op_set_3\", 5:\"sensor_1\", 6: \"sensor_2\",\n",
    "                   7: \"sensor_3\", 8: \"sensor_4\", 9: \"sensor_5\", 10: \"sensor_6\", 11: \"sensor_7\", 12: \"sensor_8\", 13: \"sensor_9\",\n",
    "                  14: \"sensor_10\", 15: \"sensor_11\", 16: \"sensor_12\", 17: \"sensor_13\", 18: \"sensor_14\", 19: \"sensor_15\", 20: \"sensor_16\",\n",
    "                  21: \"sensor_17\", 22: \"sensor_18\", 23: \"sensor_19\", 24: \"sensor_20\", 25: \"sensor_21\", 26: \"sensor_22\", 27: \"sensor_23\"}\n",
    "\n",
    "################   ################   ################   ################ \n",
    "\n",
    "test_1 = pd.read_csv(\"D:/CMAPSSData/test_FD001.txt\", header=None, sep=' ')\n",
    "\n",
    "test_1.rename(columns=column_name_dict, inplace=True)\n",
    "\n",
    "################   ################   ################   ################ \n",
    "\n",
    "train_1 = pd.read_csv(\"D:/CMAPSSData/train_FD001.txt\", header=None, sep=' ')\n",
    "\n",
    "train_1.rename(columns=column_name_dict, inplace=True)"
   ]
  },
  {
   "cell_type": "code",
   "execution_count": 7,
   "id": "55dd46d8",
   "metadata": {},
   "outputs": [],
   "source": [
    "# Feture selection\n",
    "train_1.drop(\n",
    "    columns=[\"op_set_1\",\"op_set_2\",\"op_set_3\",\n",
    "             \"sensor_1\",\"sensor_5\",\"sensor_6\",\n",
    "             \"sensor_10\",\"sensor_16\",\"sensor_18\",\n",
    "             \"sensor_19\",\"sensor_22\",\"sensor_23\"], inplace=True)\n",
    "\n",
    "\n",
    "test_1.drop(\n",
    "    columns=[\"op_set_1\",\"op_set_2\",\"op_set_3\",\n",
    "             \"sensor_1\",\"sensor_5\",\"sensor_6\",\n",
    "             \"sensor_10\",\"sensor_16\",\"sensor_18\",\n",
    "             \"sensor_19\",\"sensor_22\",\"sensor_23\"], inplace=True)"
   ]
  },
  {
   "cell_type": "code",
   "execution_count": 8,
   "id": "922549e8",
   "metadata": {},
   "outputs": [],
   "source": [
    "#Compute RUL values -- RUL for train_1 \n",
    "rul_1 = pd.DataFrame(train_1.groupby('engine_id')['cycle'].max()).reset_index()\n",
    "rul_1.columns = ['engine_id', 'max']\n",
    "\n",
    "rul_train_1 = train_1.merge(rul_1, on=['engine_id'], how='left')\n",
    "rul_train_1['RUL'] = rul_train_1['max'] - rul_train_1['cycle']\n",
    "rul_train_1.drop(['max'], axis=1, inplace=True)\n",
    "\n",
    "###############################################\n",
    "#Compute RUL values -- RUL for test_1 \n",
    "rul_1_gt[\"engine_id\"]=rul_1_gt.index + 1\n",
    "\n",
    "max_1 = pd.DataFrame(test_1.groupby('engine_id')['cycle'].max()).reset_index()\n",
    "max_1.columns = ['engine_id', 'max']\n",
    "max_test_1 = test_1.merge(max_1, on=['engine_id'], how='left')\n",
    "rul_test_1 = max_test_1.merge(rul_1_gt, on=['engine_id'], how='left')\n",
    "\n",
    "rul_test_1['RUL'] = rul_test_1['max'] - rul_test_1['cycle'] + rul_test_1[\"RUL_1gt\"] \n",
    "rul_test_1.drop(['max', 'RUL_1gt'], axis=1, inplace=True)"
   ]
  },
  {
   "cell_type": "code",
   "execution_count": 9,
   "id": "9f10ff83",
   "metadata": {},
   "outputs": [],
   "source": [
    "#train_1 minmax scaling\n",
    "cols_normalize_1 = rul_train_1.columns.difference(['engine_id','cycle'])\n",
    "\n",
    "scaler_1 = MinMaxScaler()\n",
    "norm_rul_train_1 = pd.DataFrame(scaler_1.fit_transform(rul_train_1[cols_normalize_1]), \n",
    "                                columns=cols_normalize_1, \n",
    "                                index=rul_train_1.index)\n",
    "\n",
    "norm_rul_train_1=pd.concat([norm_rul_train_1, rul_train_1[[\"engine_id\", \"cycle\"]]], axis=1)\n",
    "\n",
    "################   ################   ################   ################   ################\n",
    "\n",
    "#test_1 minmax scaling\n",
    "norm_rul_test_1 = pd.DataFrame(scaler_1.transform(rul_test_1[cols_normalize_1]), \n",
    "                                columns=cols_normalize_1, \n",
    "                                index=rul_test_1.index)\n",
    "\n",
    "norm_rul_test_1=pd.concat([norm_rul_test_1, rul_test_1[[\"engine_id\", \"cycle\"]]], axis=1)"
   ]
  },
  {
   "cell_type": "code",
   "execution_count": 10,
   "id": "54156e6a",
   "metadata": {},
   "outputs": [],
   "source": [
    "# we are only interested in the LAST CYCLE of each engine in the test set as we only have True RUL values for those records.\n",
    "# sort lists by the # of engines\n",
    "g_train_1=norm_rul_train_1.groupby('engine_id')\n",
    "g_test_1=norm_rul_test_1.groupby('engine_id')\n",
    "\n",
    "#list of dfs(engines)\n",
    "train_list = []\n",
    "test_list = []  \n",
    "\n",
    "for engineid in g_train_1.groups.keys():\n",
    "    train_list.append(g_train_1.get_group(engineid)) \n",
    "\n",
    "for engineid in g_test_1.groups.keys():\n",
    "    test_list.append(g_test_1.get_group(engineid))"
   ]
  },
  {
   "cell_type": "code",
   "execution_count": 11,
   "id": "7ed9363a",
   "metadata": {},
   "outputs": [
    {
     "data": {
      "text/plain": [
       "(100, 100)"
      ]
     },
     "execution_count": 11,
     "metadata": {},
     "output_type": "execute_result"
    }
   ],
   "source": [
    "len(train_list), len(test_list)"
   ]
  },
  {
   "cell_type": "code",
   "execution_count": 12,
   "id": "c37c4b10",
   "metadata": {},
   "outputs": [],
   "source": [
    "#generating sequences for each engine --> multivariate one step problem\n",
    "from numpy import array\n",
    "\n",
    "#df: df extracted from train_list, n_steps: window size\n",
    "def split_sequences(df, n_steps):\n",
    "    X, y = list(), list()\n",
    "    for i in range(len(df)):\n",
    "        end_ix = i + n_steps\n",
    "        if end_ix > len(df):\n",
    "            break\n",
    "        seq_x, seq_y = df[i:end_ix, 1:], df[end_ix-1, 0]\n",
    "        X.append(seq_x)\n",
    "        y.append(seq_y)\n",
    "    return array(X), array(y)\n",
    "\n",
    "\n",
    "list_x=[]\n",
    "list_y=[]\n",
    "for engine_df in train_list:\n",
    "    #convert df to arr \n",
    "    engine_arr=engine_df.drop(columns=[\"engine_id\", \"cycle\"]).to_numpy()\n",
    "    X, y = split_sequences(engine_arr, 21)#since smallest df has 21 rows\n",
    "    list_x.append(X)\n",
    "    list_y.append(y)\n",
    "\n",
    "#concat alt alta  \n",
    "X_arr=np.concatenate(list_x)\n",
    "y_arr=np.concatenate(list_y)"
   ]
  },
  {
   "cell_type": "code",
   "execution_count": 13,
   "id": "15e30720",
   "metadata": {},
   "outputs": [],
   "source": [
    "from sklearn.model_selection import train_test_split\n",
    "x_train, x_test, y_train, y_test = train_test_split(\n",
    "    X_arr, y_arr, test_size=0.1, random_state=32\n",
    ")"
   ]
  },
  {
   "cell_type": "code",
   "execution_count": 14,
   "id": "18bd570c",
   "metadata": {},
   "outputs": [
    {
     "data": {
      "text/plain": [
       "(18631, 21, 14)"
      ]
     },
     "execution_count": 14,
     "metadata": {},
     "output_type": "execute_result"
    }
   ],
   "source": [
    "X_arr.shape"
   ]
  },
  {
   "cell_type": "code",
   "execution_count": 15,
   "id": "b6d3d4a2",
   "metadata": {},
   "outputs": [
    {
     "data": {
      "text/plain": [
       "(18631,)"
      ]
     },
     "execution_count": 15,
     "metadata": {},
     "output_type": "execute_result"
    }
   ],
   "source": [
    "y_arr.shape"
   ]
  },
  {
   "cell_type": "code",
   "execution_count": 16,
   "id": "4b0f1e6f",
   "metadata": {},
   "outputs": [
    {
     "data": {
      "text/plain": [
       "(16767, 21, 14)"
      ]
     },
     "execution_count": 16,
     "metadata": {},
     "output_type": "execute_result"
    }
   ],
   "source": [
    "x_train.shape"
   ]
  },
  {
   "cell_type": "code",
   "execution_count": 17,
   "id": "ccf304cc",
   "metadata": {},
   "outputs": [
    {
     "data": {
      "text/plain": [
       "(16767,)"
      ]
     },
     "execution_count": 17,
     "metadata": {},
     "output_type": "execute_result"
    }
   ],
   "source": [
    "y_train.shape"
   ]
  },
  {
   "cell_type": "code",
   "execution_count": 18,
   "id": "ae9ae450",
   "metadata": {},
   "outputs": [
    {
     "data": {
      "text/plain": [
       "(1864, 21, 14)"
      ]
     },
     "execution_count": 18,
     "metadata": {},
     "output_type": "execute_result"
    }
   ],
   "source": [
    "x_test.shape"
   ]
  },
  {
   "cell_type": "code",
   "execution_count": 19,
   "id": "dbd59cc6",
   "metadata": {},
   "outputs": [
    {
     "data": {
      "text/plain": [
       "(1864,)"
      ]
     },
     "execution_count": 19,
     "metadata": {},
     "output_type": "execute_result"
    }
   ],
   "source": [
    "y_test.shape"
   ]
  },
  {
   "cell_type": "code",
   "execution_count": 20,
   "id": "805b87ec",
   "metadata": {},
   "outputs": [],
   "source": [
    "from tensorflow import keras\n",
    "from tensorflow.keras import layers\n",
    "\n",
    "class MultiHeadSelfAttention(layers.Layer):\n",
    "    def __init__(self, embed_dim, num_heads=8):\n",
    "        super(MultiHeadSelfAttention, self).__init__()\n",
    "        self.embed_dim = embed_dim\n",
    "        self.num_heads = num_heads\n",
    "        if embed_dim % num_heads != 0:\n",
    "            raise ValueError(\n",
    "                f\"embedding dimension = {embed_dim} should be divisible by number of heads = {num_heads}\"\n",
    "            )\n",
    "        self.projection_dim = embed_dim // num_heads\n",
    "        self.query_dense = layers.Dense(embed_dim)\n",
    "        self.key_dense = layers.Dense(embed_dim)\n",
    "        self.value_dense = layers.Dense(embed_dim)\n",
    "        self.combine_heads = layers.Dense(embed_dim)\n",
    "\n",
    "    def attention(self, query, key, value):\n",
    "        score = tf.matmul(query, key, transpose_b=True)\n",
    "        dim_key = tf.cast(tf.shape(key)[-1], tf.float32)\n",
    "        scaled_score = score / tf.math.sqrt(dim_key)\n",
    "        weights = tf.nn.softmax(scaled_score, axis=-1)\n",
    "        output = tf.matmul(weights, value)\n",
    "        return output, weights\n",
    "\n",
    "    def separate_heads(self, x, batch_size):\n",
    "        \"\"\"Reshape x to the shape (batch_size, -1, num_heads, embedding dimension.\n",
    "        Used to obtain the separate attention heads in each for each batch.\"\"\"\n",
    "        # -1 to ensure the dimension of the reshaped tensor is compatible with\n",
    "        # the original x\n",
    "        x = tf.reshape(x, (batch_size, -1, self.num_heads, self.projection_dim))\n",
    "        # ensure the transposed tensor dimensions are 0, 2, 1, 3\n",
    "        return tf.transpose(x, perm=[0, 2, 1, 3])\n",
    "\n",
    "    def call(self, inputs):\n",
    "        # x.shape = [batch_size, seq_len, embedding_dim]\n",
    "        batch_size = tf.shape(inputs)[0]\n",
    "        query = self.query_dense(inputs)  # (batch_size, seq_len, embed_dim)\n",
    "        key = self.key_dense(inputs)  # (batch_size, seq_len, embed_dim)\n",
    "        value = self.value_dense(inputs)  # (batch_size, seq_len, embed_dim)\n",
    "        query = self.separate_heads(\n",
    "            query, batch_size\n",
    "        )  # (batch_size, num_heads, seq_len, projection_dim)\n",
    "        key = self.separate_heads(\n",
    "            key, batch_size\n",
    "        )  # (batch_size, num_heads, seq_len, projection_dim)\n",
    "        value = self.separate_heads(\n",
    "            value, batch_size\n",
    "        )  # (batch_size, num_heads, seq_len, projection_dim)\n",
    "        attention, weights = self.attention(query, key, value)\n",
    "        attention = tf.transpose(\n",
    "            attention, perm=[0, 2, 1, 3]\n",
    "        )  # (batch_size, seq_len, num_heads, projection_dim)\n",
    "        concat_attention = tf.reshape(\n",
    "            attention, (batch_size, -1, self.embed_dim)\n",
    "        )  # (batch_size, seq_len, embed_dim)\n",
    "        # Recombine the heads\n",
    "        output = self.combine_heads(\n",
    "            concat_attention\n",
    "        )  # (batch_size, seq_len, embed_dim)\n",
    "        return output"
   ]
  },
  {
   "cell_type": "code",
   "execution_count": 21,
   "id": "520f40c2",
   "metadata": {},
   "outputs": [],
   "source": [
    "class TransformerBlock(layers.Layer):\n",
    "    def __init__(self, embed_dim, num_heads, ff_dim, rate=0.1):\n",
    "        super(TransformerBlock, self).__init__()\n",
    "        self.att = MultiHeadSelfAttention(embed_dim, num_heads)\n",
    "        self.ffn = keras.Sequential(\n",
    "            # note: doesnt use GELU as noted in our text\n",
    "            [layers.Dense(ff_dim, activation=\"relu\"), layers.Dense(embed_dim),]\n",
    "        )\n",
    "\n",
    "        self.layernorm1 = layers.LayerNormalization(epsilon=1e-6)\n",
    "        self.layernorm2 = layers.LayerNormalization(epsilon=1e-6)\n",
    "        self.dropout1 = layers.Dropout(rate)\n",
    "        self.dropout2 = layers.Dropout(rate)\n",
    "\n",
    "    def call(self, inputs, training):\n",
    "        # Multi-head attention\n",
    "        attn_output = self.att(inputs)\n",
    "        # Apply dropout\n",
    "        attn_output = self.dropout1(attn_output, training=training)\n",
    "        # Add and norm\n",
    "        # NOTE!!! This does not use leaky relu or GELU?\n",
    "        out1 = self.layernorm1(inputs + attn_output)\n",
    "        ffn_output = self.ffn(out1)\n",
    "        # Pass through FFNN, dropout again\n",
    "        ffn_output = self.dropout2(ffn_output, training=training)\n",
    "        # Final add and norm\n",
    "        return self.layernorm2(out1 + ffn_output)"
   ]
  },
  {
   "cell_type": "code",
   "execution_count": 22,
   "id": "ead084bc",
   "metadata": {},
   "outputs": [],
   "source": [
    "class TransformerBlockWithLeakyRelu(layers.Layer):\n",
    "    def __init__(self, embed_dim, num_heads, ff_dim, rate=0.1):\n",
    "        super(TransformerBlockWithLeakyRelu, self).__init__()\n",
    "        self.att = MultiHeadSelfAttention(embed_dim, num_heads)\n",
    "        self.ffn = keras.Sequential(\n",
    "            # note: doesnt use GELU as noted in our text\n",
    "            [layers.Dense(ff_dim, activation=\"gelu\"), layers.Dense(embed_dim),]\n",
    "        )\n",
    "        self.leakyrelu = keras.Sequential(\n",
    "            # note: doesnt use GELU as noted in our text\n",
    "            [layers.Dense(ff_dim, activation=\"LeakyReLU\"), layers.Dense(embed_dim),]\n",
    "        )\n",
    "        self.layernorm1 = layers.LayerNormalization(epsilon=1e-6)\n",
    "        self.layernorm2 = layers.LayerNormalization(epsilon=1e-6)\n",
    "        self.dropout1 = layers.Dropout(rate)\n",
    "        self.dropout2 = layers.Dropout(rate)\n",
    "\n",
    "    def call(self, inputs, training):\n",
    "        # Multi-head attention\n",
    "        attn_output = self.att(inputs)\n",
    "        # Apply dropout\n",
    "        attn_output = self.dropout1(attn_output, training=training)\n",
    "        # Apply leakyrelu after each sublayer\n",
    "        attn_output = self.leakyrelu(attn_output)\n",
    "        # Add and norm\n",
    "        # NOTE!!! This does not use leaky relu or GELU?\n",
    "        out1 = self.layernorm1(inputs + attn_output)\n",
    "        ffn_output = self.ffn(out1)\n",
    "        # Pass through FFNN, dropout again\n",
    "        ffn_output = self.dropout2(ffn_output, training=training)\n",
    "        # Apply leakyrelu\n",
    "        ffn_output = self.leakyrelu(ffn_output)\n",
    "        # Final add and norm\n",
    "        return self.layernorm2(out1 + ffn_output)"
   ]
  },
  {
   "cell_type": "code",
   "execution_count": 23,
   "id": "1d021dfd",
   "metadata": {},
   "outputs": [],
   "source": [
    "class PositionalEmbedding(layers.Layer):\n",
    "    \"\"\"Add positional embedding\"\"\"\n",
    "    def __init__(self, maxlen, embed_dim):\n",
    "        super(PositionalEmbedding, self).__init__()\n",
    "        self.maxlen = maxlen\n",
    "        self.pos_emb = layers.Embedding(input_dim=maxlen, output_dim=embed_dim)\n",
    "\n",
    "    def call(self, x):\n",
    "        # maxlen = tf.shape(x)[-1]\n",
    "        maxlen = self.maxlen\n",
    "        positions = tf.range(start=0, limit=maxlen, delta=1)\n",
    "        positions = self.pos_emb(positions)\n",
    "        return x + positions"
   ]
  },
  {
   "cell_type": "code",
   "execution_count": 24,
   "id": "c428af53",
   "metadata": {},
   "outputs": [],
   "source": [
    "class LinearLayer(layers.Layer):\n",
    "    \"\"\"LinearLayer\"\"\"\n",
    "    def __init__(self, maxlen):\n",
    "        super(LinearLayer, self).__init__()\n",
    "        self.linear = layers.Dense(units=maxlen)\n",
    "\n",
    "    def call(self, x):\n",
    "        maxlen = tf.shape(x)[-1]\n",
    "        x = self.linear(x)\n",
    "        return x"
   ]
  },
  {
   "cell_type": "code",
   "execution_count": 33,
   "id": "ba9d62be",
   "metadata": {},
   "outputs": [
    {
     "name": "stdout",
     "output_type": "stream",
     "text": [
      "KerasTensor(type_spec=TensorSpec(shape=(None, 21, 14), dtype=tf.float32, name='input_5'), name='input_5', description=\"created by layer 'input_5'\")\n",
      "(None, 21, 512)\n",
      "(None, 21, 512)\n"
     ]
    }
   ],
   "source": [
    "# 1. Setting the parameters:\n",
    "\n",
    "seq_len=x_train.shape[1]\n",
    "num_features=x_train.shape[2]\n",
    "\n",
    "embed_dim = 512  # Embedding size for each token\n",
    "num_heads = 4 # 1 - Number of attention heads\n",
    "ff_dim = 512 # 3 - feed forward network hidden dimension * Hidden layer size in feed forward network inside transformer\n",
    "droupout_rate = 0.2  # 4 - Droupoutrate\n",
    "\n",
    "# 2. Constructing the layers:\n",
    "#inputs = layers.Input(shape=(maxlen,))\n",
    "inputs = layers.Input(shape=(seq_len, num_features))\n",
    "print(inputs)\n",
    "#embedding_layer = LinearLayer(maxlen)\n",
    "#embedding_layer = LinearLayer(seq_len)\n",
    "\n",
    "embedding_layer = LinearLayer(embed_dim)\n",
    "positional_embeddings = PositionalEmbedding(maxlen=seq_len, embed_dim=embed_dim)\n",
    "\n",
    "\n",
    "# 3. Building the network:\n",
    "x = embedding_layer(inputs)\n",
    "#print(x.shape)\n",
    "x = positional_embeddings(x) # adding positional embeddings\n",
    "#print(x.shape)\n",
    "#transformer_block = TransformerBlock(maxlen, num_heads, ff_dim)\n",
    "transformer_block = TransformerBlock(embed_dim, num_heads, ff_dim, droupout_rate)\n",
    "\n",
    "# Try to write a for loop for the number of transfor block\n",
    "# 2 - Number of Transformer_blocks\n",
    "x = transformer_block(x)\n",
    "x = transformer_block(x)\n",
    "x = transformer_block(x)\n",
    "\n",
    "x = layers.GlobalAveragePooling1D()(x)\n",
    "x = layers.Dropout(droupout_rate)(x)\n",
    "\n",
    "# 5 - Activation parameter\n",
    "x = layers.Dense(20, activation=\"sigmoid\")(x)\n",
    "\n",
    "x = layers.Dropout(droupout_rate)(x)\n",
    "\n",
    "#outputs = layers.Dense(2, activation=\"softmax\")(x)# activation should be linear. <<<<<-------TASK\n",
    "outputs = layers.Dense(1)(x)\n",
    "model = keras.Model(inputs=inputs, outputs=outputs)"
   ]
  },
  {
   "cell_type": "code",
   "execution_count": 39,
   "id": "9918311e",
   "metadata": {},
   "outputs": [
    {
     "name": "stderr",
     "output_type": "stream",
     "text": [
      "C:\\Users\\noori\\.conda\\envs\\tensorflow\\lib\\site-packages\\keras\\optimizer_v2\\optimizer_v2.py:355: UserWarning: The `lr` argument is deprecated, use `learning_rate` instead.\n",
      "  warnings.warn(\n"
     ]
    },
    {
     "name": "stdout",
     "output_type": "stream",
     "text": [
      "Epoch 1/100\n",
      "66/66 [==============================] - 15s 186ms/step - loss: 0.1946 - val_loss: 0.0320\n",
      "Epoch 2/100\n",
      "66/66 [==============================] - 11s 164ms/step - loss: 0.0633 - val_loss: 0.0319\n",
      "Epoch 3/100\n",
      "66/66 [==============================] - 12s 175ms/step - loss: 0.0382 - val_loss: 0.0333\n",
      "Epoch 4/100\n",
      "66/66 [==============================] - 12s 182ms/step - loss: 0.0365 - val_loss: 0.0340\n",
      "Epoch 5/100\n",
      "66/66 [==============================] - 12s 187ms/step - loss: 0.0355 - val_loss: 0.0363\n",
      "Epoch 6/100\n",
      "66/66 [==============================] - 12s 180ms/step - loss: 0.0348 - val_loss: 0.0339\n",
      "Epoch 7/100\n",
      "66/66 [==============================] - 12s 189ms/step - loss: 0.0343 - val_loss: 0.0344\n",
      "Epoch 8/100\n",
      "66/66 [==============================] - 12s 184ms/step - loss: 0.0341 - val_loss: 0.0326\n",
      "Epoch 9/100\n",
      "66/66 [==============================] - 12s 176ms/step - loss: 0.0340 - val_loss: 0.0320\n",
      "Epoch 10/100\n",
      "66/66 [==============================] - 12s 180ms/step - loss: 0.0350 - val_loss: 0.0323\n",
      "Epoch 11/100\n",
      "66/66 [==============================] - 11s 172ms/step - loss: 0.0339 - val_loss: 0.0329\n",
      "Epoch 12/100\n",
      "66/66 [==============================] - 11s 170ms/step - loss: 0.0337 - val_loss: 0.0321\n",
      "Epoch 13/100\n",
      "66/66 [==============================] - 11s 170ms/step - loss: 0.0333 - val_loss: 0.0323\n",
      "Epoch 14/100\n",
      "66/66 [==============================] - 11s 169ms/step - loss: 0.0330 - val_loss: 0.0327\n",
      "Epoch 15/100\n",
      "66/66 [==============================] - 11s 166ms/step - loss: 0.0327 - val_loss: 0.0322\n",
      "Epoch 16/100\n",
      "66/66 [==============================] - 11s 167ms/step - loss: 0.0327 - val_loss: 0.0323\n",
      "Epoch 17/100\n",
      "66/66 [==============================] - 11s 170ms/step - loss: 0.0325 - val_loss: 0.0324\n",
      "Epoch 18/100\n",
      "66/66 [==============================] - 12s 176ms/step - loss: 0.0325 - val_loss: 0.0332\n",
      "Epoch 19/100\n",
      "66/66 [==============================] - 12s 175ms/step - loss: 0.0323 - val_loss: 0.0321\n",
      "Epoch 20/100\n",
      "66/66 [==============================] - 11s 170ms/step - loss: 0.0322 - val_loss: 0.0324\n",
      "Epoch 21/100\n",
      "66/66 [==============================] - 12s 177ms/step - loss: 0.0322 - val_loss: 0.0327\n",
      "Epoch 22/100\n",
      "66/66 [==============================] - 11s 173ms/step - loss: 0.0319 - val_loss: 0.0319\n",
      "Epoch 23/100\n",
      "66/66 [==============================] - 12s 175ms/step - loss: 0.0319 - val_loss: 0.0324\n",
      "Epoch 24/100\n",
      "66/66 [==============================] - 11s 169ms/step - loss: 0.0317 - val_loss: 0.0323\n",
      "Epoch 25/100\n",
      "66/66 [==============================] - 11s 174ms/step - loss: 0.0319 - val_loss: 0.0320\n",
      "Epoch 26/100\n",
      "66/66 [==============================] - 12s 176ms/step - loss: 0.0318 - val_loss: 0.0319\n",
      "Epoch 27/100\n",
      "66/66 [==============================] - 11s 172ms/step - loss: 0.0317 - val_loss: 0.0321\n",
      "Epoch 28/100\n",
      "66/66 [==============================] - 11s 165ms/step - loss: 0.0317 - val_loss: 0.0319\n",
      "Epoch 29/100\n",
      "66/66 [==============================] - 11s 165ms/step - loss: 0.0316 - val_loss: 0.0318\n",
      "Epoch 30/100\n",
      "66/66 [==============================] - 11s 165ms/step - loss: 0.0317 - val_loss: 0.0319\n",
      "Epoch 31/100\n",
      "66/66 [==============================] - 11s 168ms/step - loss: 0.0316 - val_loss: 0.0318\n",
      "Epoch 32/100\n",
      "66/66 [==============================] - 11s 165ms/step - loss: 0.0315 - val_loss: 0.0318\n",
      "Epoch 33/100\n",
      "66/66 [==============================] - 11s 168ms/step - loss: 0.0316 - val_loss: 0.0318\n",
      "Epoch 34/100\n",
      "66/66 [==============================] - 11s 165ms/step - loss: 0.0315 - val_loss: 0.0319\n",
      "Epoch 35/100\n",
      "66/66 [==============================] - 11s 170ms/step - loss: 0.0315 - val_loss: 0.0318\n",
      "Epoch 36/100\n",
      "66/66 [==============================] - 11s 169ms/step - loss: 0.0315 - val_loss: 0.0318\n",
      "Epoch 37/100\n",
      "66/66 [==============================] - 12s 177ms/step - loss: 0.0315 - val_loss: 0.0317\n",
      "Epoch 38/100\n",
      "66/66 [==============================] - 11s 167ms/step - loss: 0.0315 - val_loss: 0.0318\n",
      "Epoch 39/100\n",
      "66/66 [==============================] - 11s 168ms/step - loss: 0.0315 - val_loss: 0.0318\n",
      "Epoch 40/100\n",
      "66/66 [==============================] - 11s 168ms/step - loss: 0.0315 - val_loss: 0.0318\n",
      "Epoch 41/100\n",
      "66/66 [==============================] - 11s 168ms/step - loss: 0.0315 - val_loss: 0.0317\n",
      "Epoch 42/100\n",
      "66/66 [==============================] - 11s 168ms/step - loss: 0.0315 - val_loss: 0.0317\n",
      "Epoch 43/100\n",
      "66/66 [==============================] - 11s 168ms/step - loss: 0.0315 - val_loss: 0.0318\n",
      "Epoch 44/100\n",
      "66/66 [==============================] - 11s 168ms/step - loss: 0.0315 - val_loss: 0.0318\n",
      "Epoch 45/100\n",
      "66/66 [==============================] - 11s 171ms/step - loss: 0.0315 - val_loss: 0.0317\n",
      "Epoch 46/100\n",
      "66/66 [==============================] - 11s 170ms/step - loss: 0.0314 - val_loss: 0.0317\n",
      "Epoch 47/100\n",
      "66/66 [==============================] - 11s 173ms/step - loss: 0.0315 - val_loss: 0.0317\n",
      "Epoch 48/100\n",
      "66/66 [==============================] - 11s 168ms/step - loss: 0.0315 - val_loss: 0.0317\n",
      "Epoch 49/100\n",
      "66/66 [==============================] - 11s 167ms/step - loss: 0.0315 - val_loss: 0.0317\n",
      "Epoch 50/100\n",
      "66/66 [==============================] - 11s 170ms/step - loss: 0.0314 - val_loss: 0.0317\n",
      "Epoch 51/100\n",
      "66/66 [==============================] - 12s 178ms/step - loss: 0.0315 - val_loss: 0.0317\n",
      "Epoch 52/100\n",
      "66/66 [==============================] - 12s 180ms/step - loss: 0.0315 - val_loss: 0.0317\n",
      "Epoch 53/100\n",
      "66/66 [==============================] - 12s 176ms/step - loss: 0.0314 - val_loss: 0.0317\n",
      "Epoch 54/100\n",
      "66/66 [==============================] - 12s 175ms/step - loss: 0.0314 - val_loss: 0.0317\n",
      "Epoch 55/100\n",
      "66/66 [==============================] - 12s 175ms/step - loss: 0.0314 - val_loss: 0.0317\n",
      "Epoch 56/100\n",
      "66/66 [==============================] - 12s 176ms/step - loss: 0.0315 - val_loss: 0.0317\n",
      "Epoch 57/100\n",
      "66/66 [==============================] - 11s 174ms/step - loss: 0.0314 - val_loss: 0.0317\n",
      "Epoch 58/100\n",
      "66/66 [==============================] - 11s 171ms/step - loss: 0.0314 - val_loss: 0.0317\n",
      "Epoch 59/100\n",
      "66/66 [==============================] - 11s 169ms/step - loss: 0.0315 - val_loss: 0.0317\n",
      "Epoch 60/100\n",
      "66/66 [==============================] - 11s 169ms/step - loss: 0.0314 - val_loss: 0.0317\n",
      "Epoch 61/100\n",
      "66/66 [==============================] - 11s 170ms/step - loss: 0.0314 - val_loss: 0.0317\n",
      "Epoch 62/100\n",
      "66/66 [==============================] - 11s 170ms/step - loss: 0.0314 - val_loss: 0.0317\n",
      "Epoch 63/100\n",
      "66/66 [==============================] - 11s 169ms/step - loss: 0.0314 - val_loss: 0.0317\n",
      "Epoch 64/100\n",
      "66/66 [==============================] - 11s 169ms/step - loss: 0.0314 - val_loss: 0.0317\n",
      "Epoch 65/100\n",
      "66/66 [==============================] - 11s 169ms/step - loss: 0.0315 - val_loss: 0.0317\n",
      "Epoch 66/100\n",
      "66/66 [==============================] - 11s 169ms/step - loss: 0.0314 - val_loss: 0.0318\n",
      "Epoch 67/100\n",
      "66/66 [==============================] - 11s 169ms/step - loss: 0.0314 - val_loss: 0.0317\n",
      "Epoch 68/100\n",
      "66/66 [==============================] - 11s 169ms/step - loss: 0.0314 - val_loss: 0.0317\n",
      "Epoch 69/100\n",
      "66/66 [==============================] - 11s 169ms/step - loss: 0.0314 - val_loss: 0.0317\n",
      "Epoch 70/100\n",
      "66/66 [==============================] - 11s 169ms/step - loss: 0.0314 - val_loss: 0.0317\n",
      "Epoch 71/100\n",
      "66/66 [==============================] - 11s 169ms/step - loss: 0.0315 - val_loss: 0.0317\n",
      "Epoch 72/100\n",
      "66/66 [==============================] - 11s 170ms/step - loss: 0.0315 - val_loss: 0.0317\n",
      "Epoch 73/100\n",
      "66/66 [==============================] - 11s 169ms/step - loss: 0.0314 - val_loss: 0.0317\n",
      "Epoch 74/100\n",
      "66/66 [==============================] - 11s 169ms/step - loss: 0.0314 - val_loss: 0.0317\n",
      "Epoch 75/100\n",
      "66/66 [==============================] - 11s 169ms/step - loss: 0.0314 - val_loss: 0.0317\n",
      "Epoch 76/100\n",
      "66/66 [==============================] - 11s 169ms/step - loss: 0.0314 - val_loss: 0.0317\n",
      "Epoch 77/100\n",
      "66/66 [==============================] - 11s 172ms/step - loss: 0.0314 - val_loss: 0.0317\n",
      "Epoch 78/100\n",
      "66/66 [==============================] - 11s 169ms/step - loss: 0.0314 - val_loss: 0.0317\n",
      "Epoch 79/100\n",
      "66/66 [==============================] - 11s 169ms/step - loss: 0.0315 - val_loss: 0.0317\n",
      "Epoch 80/100\n",
      "66/66 [==============================] - 11s 169ms/step - loss: 0.0314 - val_loss: 0.0317\n",
      "Epoch 81/100\n",
      "66/66 [==============================] - 11s 169ms/step - loss: 0.0314 - val_loss: 0.0317\n",
      "Epoch 82/100\n",
      "66/66 [==============================] - 11s 169ms/step - loss: 0.0314 - val_loss: 0.0317\n",
      "Epoch 83/100\n",
      "66/66 [==============================] - 11s 170ms/step - loss: 0.0314 - val_loss: 0.0318\n",
      "Epoch 84/100\n",
      "66/66 [==============================] - 11s 170ms/step - loss: 0.0314 - val_loss: 0.0317\n",
      "Epoch 85/100\n",
      "66/66 [==============================] - 11s 169ms/step - loss: 0.0314 - val_loss: 0.0317\n",
      "Epoch 86/100\n",
      "66/66 [==============================] - 11s 169ms/step - loss: 0.0314 - val_loss: 0.0317\n",
      "Epoch 87/100\n",
      "66/66 [==============================] - 11s 170ms/step - loss: 0.0314 - val_loss: 0.0317\n",
      "Epoch 88/100\n",
      "66/66 [==============================] - 11s 169ms/step - loss: 0.0314 - val_loss: 0.0318\n",
      "Epoch 89/100\n",
      "66/66 [==============================] - 11s 172ms/step - loss: 0.0314 - val_loss: 0.0317\n",
      "Epoch 90/100\n",
      "66/66 [==============================] - 12s 178ms/step - loss: 0.0314 - val_loss: 0.0318\n",
      "Epoch 91/100\n",
      "66/66 [==============================] - 11s 174ms/step - loss: 0.0315 - val_loss: 0.0317\n",
      "Epoch 92/100\n",
      "66/66 [==============================] - 11s 169ms/step - loss: 0.0314 - val_loss: 0.0317\n",
      "Epoch 93/100\n",
      "66/66 [==============================] - 11s 167ms/step - loss: 0.0315 - val_loss: 0.0318\n",
      "Epoch 94/100\n",
      "66/66 [==============================] - 11s 173ms/step - loss: 0.0314 - val_loss: 0.0317\n",
      "Epoch 95/100\n",
      "66/66 [==============================] - 11s 170ms/step - loss: 0.0314 - val_loss: 0.0317\n",
      "Epoch 96/100\n",
      "66/66 [==============================] - 11s 170ms/step - loss: 0.0314 - val_loss: 0.0317\n",
      "Epoch 97/100\n",
      "66/66 [==============================] - 11s 170ms/step - loss: 0.0314 - val_loss: 0.0317\n",
      "Epoch 98/100\n",
      "66/66 [==============================] - 12s 176ms/step - loss: 0.0314 - val_loss: 0.0317\n",
      "Epoch 99/100\n",
      "66/66 [==============================] - 11s 171ms/step - loss: 0.0314 - val_loss: 0.0318\n",
      "Epoch 100/100\n",
      "66/66 [==============================] - 11s 168ms/step - loss: 0.0314 - val_loss: 0.0317\n"
     ]
    }
   ],
   "source": [
    "# 8 - learning rate - determine the default value\n",
    "model.compile(optimizer=Adam(lr=0.001), loss='mse')\n",
    "#model.compile(optimizer=Adam(lr=0.005), loss='mse')\n",
    "#This callback will stop the training when there is no improvement in the validation loss for 20 consecutive epochs. \n",
    "#regularization technique as preventing overfitting, model runtime gets shorter\n",
    "callback = tf.keras.callbacks.EarlyStopping(monitor='loss', patience=20)\n",
    "\n",
    "\n",
    "# 6 - batch_size\n",
    "# 7 - epochs\n",
    "history = model.fit(\n",
    "    x_train, y_train, batch_size=256, epochs=100, validation_data=(x_test, y_test))"
   ]
  },
  {
   "cell_type": "code",
   "execution_count": 40,
   "id": "531fceb0",
   "metadata": {},
   "outputs": [
    {
     "data": {
      "text/plain": [
       "Text(0.5, 1.0, 'Loss Error')"
      ]
     },
     "execution_count": 40,
     "metadata": {},
     "output_type": "execute_result"
    },
    {
     "data": {
      "image/png": "[encoded data removed]",
      "text/plain": [
       "<Figure size 432x288 with 1 Axes>"
      ]
     },
     "metadata": {
      "needs_background": "light"
     },
     "output_type": "display_data"
    }
   ],
   "source": [
    "# plotting training loss and validation loss ----- \n",
    "plt.plot(history.history['loss'], 'o-',label='Training loss')\n",
    "plt.plot(history.history['val_loss'], 'o-',label='Validation loss')\n",
    "plt.legend()\n",
    "plt.title('Loss Error')"
   ]
  },
  {
   "cell_type": "code",
   "execution_count": 41,
   "id": "ea8c1b32",
   "metadata": {},
   "outputs": [],
   "source": [
    "#prepare test set to make predictions\n",
    "list_x_test=[]\n",
    "list_y_test=[]\n",
    "\n",
    "for engine_df in test_list:\n",
    "    #convert df to arr \n",
    "    engine_arr=engine_df.drop(columns=[\"engine_id\", \"cycle\"]).to_numpy()\n",
    "    X, y = split_sequences(engine_arr, seq_len)\n",
    "    \n",
    "    #use only last seq for each engine\n",
    "    list_x_test.append(X[-1].reshape((1, seq_len, num_features)))\n",
    "    list_y_test.append(y[-1].reshape((1, )))\n",
    "\n",
    "#concat alt alta  \n",
    "X_arr_test=np.concatenate(list_x_test)\n",
    "y_arr_test=np.concatenate(list_y_test)"
   ]
  },
  {
   "cell_type": "code",
   "execution_count": 42,
   "id": "2a07e189",
   "metadata": {},
   "outputs": [],
   "source": [
    "# We have to make inverse scaling for RUL column in order to produce proper prediction results\n",
    "#create a dummy df to take inverse only on one col --> \"y_pred\"\n",
    "def invTransform(scaler, y_pred, colNames):\n",
    "    dummy = pd.DataFrame(np.zeros((len(y_pred), len(colNames))), columns=colNames)\n",
    "    dummy[\"RUL\"] = y_pred\n",
    "    dummy = pd.DataFrame(scaler.inverse_transform(dummy), columns=colNames)\n",
    "    return dummy[\"RUL\"].values"
   ]
  },
  {
   "cell_type": "code",
   "execution_count": 43,
   "id": "540804d3",
   "metadata": {},
   "outputs": [
    {
     "data": {
      "text/plain": [
       "(100,)"
      ]
     },
     "execution_count": 43,
     "metadata": {},
     "output_type": "execute_result"
    }
   ],
   "source": [
    "#prediction\n",
    "y_pred = model.predict(X_arr_test, verbose=0)\n",
    "\n",
    "#inverse scaling for y_pred values\n",
    "y_pred_inv=invTransform(scaler_1, y_pred, cols_normalize_1)\n",
    "\n",
    "y_pred_reshaped=y_pred_inv.reshape((len(y_pred_inv, )))\n",
    "y_pred_reshaped.shape"
   ]
  },
  {
   "cell_type": "code",
   "execution_count": 44,
   "id": "45fc86fa",
   "metadata": {},
   "outputs": [
    {
     "data": {
      "text/plain": [
       "(100,)"
      ]
     },
     "execution_count": 44,
     "metadata": {},
     "output_type": "execute_result"
    }
   ],
   "source": [
    "y_truth=rul_1_gt[\"RUL_1gt\"].values\n",
    "y_truth.shape"
   ]
  },
  {
   "cell_type": "code",
   "execution_count": 45,
   "id": "4350e77c",
   "metadata": {},
   "outputs": [
    {
     "data": {
      "text/plain": [
       "array([112,  98,  69,  82,  91,  93,  91,  95, 111,  96,  97, 124,  95,\n",
       "       107,  83,  84,  50,  28,  87,  16,  57, 111, 113,  20, 145, 119,\n",
       "        66,  97,  90, 115,   8,  48, 106,   7,  11,  19,  21,  50, 142,\n",
       "        28,  18,  10,  59, 109, 114,  47, 135,  92,  21,  79, 114,  29,\n",
       "        26,  97, 137,  15, 103,  37, 114, 100,  21,  54,  72,  28, 128,\n",
       "        14,  77,   8, 121,  94, 118,  50, 131, 126, 113,  10,  34, 107,\n",
       "        63,  90,   8,   9, 137,  58, 118,  89, 116, 115, 136,  28,  38,\n",
       "        20,  85,  55, 128, 137,  82,  59, 117,  20], dtype=int64)"
      ]
     },
     "execution_count": 45,
     "metadata": {},
     "output_type": "execute_result"
    }
   ],
   "source": [
    "y_truth"
   ]
  },
  {
   "cell_type": "code",
   "execution_count": 46,
   "id": "6b907d69",
   "metadata": {},
   "outputs": [
    {
     "data": {
      "text/plain": [
       "array([97.47088608, 97.47087532, 97.47086456, 97.47087532, 97.47087532,\n",
       "       97.47087532, 97.47088608, 97.47087532, 97.47087532, 97.47087532,\n",
       "       97.47087532, 97.47088608, 97.47087532, 97.47087532, 97.47088608,\n",
       "       97.47088608, 97.47087532, 97.47087532, 97.47088608, 97.47086456,\n",
       "       97.47088608, 97.47087532, 97.47088608, 97.47087532, 97.47088608,\n",
       "       97.47088608, 97.47087532, 97.47087532, 97.47087532, 97.47087532,\n",
       "       97.47085381, 97.47087532, 97.47087532, 97.47085381, 97.47085381,\n",
       "       97.47085381, 97.47087532, 97.47086456, 97.47089684, 97.47086456,\n",
       "       97.47086456, 97.47086456, 97.47087532, 97.47087532, 97.47087532,\n",
       "       97.47086456, 97.47087532, 97.47087532, 97.47086456, 97.47088608,\n",
       "       97.47087532, 97.47087532, 97.47087532, 97.47089684, 97.47088608,\n",
       "       97.47085381, 97.47087532, 97.47086456, 97.47088608, 97.47087532,\n",
       "       97.47086456, 97.47087532, 97.47086456, 97.47086456, 97.47089684,\n",
       "       97.47086456, 97.47088608, 97.47085381, 97.47087532, 97.47087532,\n",
       "       97.47088608, 97.47087532, 97.47088608, 97.47087532, 97.47088608,\n",
       "       97.47085381, 97.47086456, 97.47089684, 97.47087532, 97.47087532,\n",
       "       97.47085381, 97.47086456, 97.47088608, 97.47086456, 97.47087532,\n",
       "       97.47087532, 97.47088608, 97.47087532, 97.47087532, 97.47086456,\n",
       "       97.47085381, 97.47085381, 97.47086456, 97.47086456, 97.47088608,\n",
       "       97.47088608, 97.47088608, 97.47087532, 97.47089684, 97.47087532])"
      ]
     },
     "execution_count": 46,
     "metadata": {},
     "output_type": "execute_result"
    }
   ],
   "source": [
    "y_pred_reshaped"
   ]
  },
  {
   "cell_type": "code",
   "execution_count": 47,
   "id": "a43a0d0c",
   "metadata": {},
   "outputs": [],
   "source": [
    "#error cal. for paper\n",
    "def score(y_true, y_pred, a1=10, a2=13):\n",
    "    score = 0\n",
    "    d = y_pred - y_true\n",
    "    for i in d:\n",
    "        if i >= 0 :\n",
    "            score += math.exp(i/a2) - 1   \n",
    "        else:\n",
    "            score += math.exp(- i/a1) - 1\n",
    "    return score"
   ]
  },
  {
   "cell_type": "code",
   "execution_count": 48,
   "id": "083abc3f",
   "metadata": {},
   "outputs": [
    {
     "data": {
      "text/plain": [
       "14748.593518098767"
      ]
     },
     "execution_count": 48,
     "metadata": {},
     "output_type": "execute_result"
    }
   ],
   "source": [
    "score(y_truth,y_pred_reshaped)"
   ]
  },
  {
   "cell_type": "code",
   "execution_count": 49,
   "id": "591e3181",
   "metadata": {},
   "outputs": [],
   "source": [
    "def score_func(y_true, y_pred):\n",
    "    score_list = [\n",
    "                  round(score(y_true,y_pred), 2), \n",
    "                  round(mean_absolute_error(y_true,y_pred), 2),\n",
    "                  round(mean_squared_error(y_true,y_pred),2) ** 0.5,\n",
    "                  round(r2_score(y_true,y_pred), 2)\n",
    "                  ]\n",
    "    \n",
    "    \n",
    "    print(f' compatitive score: {score_list[0]}')\n",
    "    print(f' mean absolute error: {score_list[1]}')\n",
    "    print(f' root mean squared error: {score_list[2]}')\n",
    "    print(f' R2 score: {score_list[3]}')\n",
    "    \n",
    "    return 0"
   ]
  },
  {
   "cell_type": "code",
   "execution_count": 50,
   "id": "3abebfc4",
   "metadata": {},
   "outputs": [
    {
     "name": "stdout",
     "output_type": "stream",
     "text": [
      " compatitive score: 14748.59\n",
      " mean absolute error: 37.26\n",
      " root mean squared error: 46.996914792356314\n",
      " R2 score: -0.28\n"
     ]
    },
    {
     "data": {
      "text/plain": [
       "0"
      ]
     },
     "execution_count": 50,
     "metadata": {},
     "output_type": "execute_result"
    }
   ],
   "source": [
    "score_func(y_truth,y_pred_reshaped)"
   ]
  },
  {
   "cell_type": "code",
   "execution_count": null,
   "id": "0948b40f",
   "metadata": {},
   "outputs": [],
   "source": []
  }
 ],
 "metadata": {
  "kernelspec": {
   "display_name": "Python 3",
   "language": "python",
   "name": "python3"
  },
  "language_info": {
   "codemirror_mode": {
    "name": "ipython",
    "version": 3
   },
   "file_extension": ".py",
   "mimetype": "text/x-python",
   "name": "python",
   "nbconvert_exporter": "python",
   "pygments_lexer": "ipython3",
   "version": "3.8.8"
  }
 },
 "nbformat": 4,
 "nbformat_minor": 5
}
